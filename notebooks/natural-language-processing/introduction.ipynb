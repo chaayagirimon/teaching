{
 "cells": [
  {
   "cell_type": "markdown",
   "id": "f78b699a",
   "metadata": {},
   "source": [
    "# Introduction"
   ]
  },
  {
   "cell_type": "markdown",
   "id": "bdfe7ada",
   "metadata": {},
   "source": [
    "You should process some texts using [NLTK](https://www.nltk.org/) or [spaCy](https://spacy.io/) libraries (ideally both). In particular, you should do the following:\n",
    "- Load the `harry_potter` book. You can find this text corpus in the datasets folder.\n",
    "- Segment the text of the book into sentences. How many sentences does this book have?\n",
    "- Compute the frequency of each token in the book. What are the most frequent tokens?\n",
    "- Choose a sentence from the book. Analyze this chosen sentence by\n",
    "    - Calculating all [n-grams](https://en.wikipedia.org/wiki/N-gram).\n",
    "    - Finding [POS tags](https://en.wikipedia.org/wiki/Part-of-speech_tagging) of tokens.\n",
    "    - [Stemming](https://en.wikipedia.org/wiki/Stemming) and [lemmatizing](https://en.wikipedia.org/wiki/Lemmatisation) tokens.\n",
    "- Check the documentation to identify the most important hyperparameters, attributes, and methods. Use them in practice."
   ]
  },
  {
   "cell_type": "code",
   "execution_count": 42,
   "id": "a8d7e3f0",
   "metadata": {},
   "outputs": [],
   "source": [
    "import nltk\n",
    "from nltk.tokenize import sent_tokenize, word_tokenize\n",
    "from nltk.probability import FreqDist\n",
    "from nltk.util import ngrams\n",
    "from nltk.tag import pos_tag\n",
    "from nltk.stem import PorterStemmer, WordNetLemmatizer"
   ]
  },
  {
   "cell_type": "code",
   "execution_count": 2,
   "id": "ff1f4c1f",
   "metadata": {},
   "outputs": [
    {
     "data": {
      "text/plain": [
       "\"CHAPTER ONE THE BOY WHO LIVED \\n\\nMr. and Mrs. Dursley, of number four, Privet Drive, were proud to say that they were perfectly normal, thank you very much. They were the last people you'd expect to be involved in anything strange or mysterious, because they just didn't hold with such nonsense. \\n\\nMr. Dursley was the director of a firm called Grunnings, which made drills. He was a big, beefy man with hardly any neck, although he did have a very large mustache. Mrs. Dursley was thin and blonde and had nearly twice the usual amount of neck, which came in very useful as she spent so much of her time craning over garden fences, spying on the neighbors. The Dursleys had a small son called Dudley and in their opinion there was no finer boy anywhere. \\n\\nThe Dursleys had everything they wanted, but they also had a secret, and their greatest fear was that somebody would discover it. They didn't think they could bear it if anyone found out about the Potters. Mrs. Potter was Mrs. Dursley's sister, b\""
      ]
     },
     "execution_count": 2,
     "metadata": {},
     "output_type": "execute_result"
    }
   ],
   "source": [
    "f = open(\"../../datasets/harry_potter.txt\").read()\n",
    "f[:1000]"
   ]
  },
  {
   "cell_type": "code",
   "execution_count": 46,
   "id": "57fa927c",
   "metadata": {},
   "outputs": [
    {
     "name": "stderr",
     "output_type": "stream",
     "text": [
      "[nltk_data] Downloading package punkt to /Users/tactlabs/nltk_data...\n",
      "[nltk_data]   Package punkt is already up-to-date!\n",
      "[nltk_data] Downloading package averaged_perceptron_tagger to\n",
      "[nltk_data]     /Users/tactlabs/nltk_data...\n",
      "[nltk_data]   Package averaged_perceptron_tagger is already up-to-\n",
      "[nltk_data]       date!\n",
      "[nltk_data] Downloading package wordnet to\n",
      "[nltk_data]     /Users/tactlabs/nltk_data...\n",
      "[nltk_data]   Package wordnet is already up-to-date!\n",
      "[nltk_data] Downloading package omw-1.4 to\n",
      "[nltk_data]     /Users/tactlabs/nltk_data...\n"
     ]
    },
    {
     "data": {
      "text/plain": [
       "True"
      ]
     },
     "execution_count": 46,
     "metadata": {},
     "output_type": "execute_result"
    }
   ],
   "source": [
    "nltk.download('punkt')\n",
    "nltk.download('averaged_perceptron_tagger')\n",
    "nltk.download('wordnet')\n",
    "nltk.download('omw-1.4')"
   ]
  },
  {
   "cell_type": "code",
   "execution_count": 11,
   "id": "d7b2012b",
   "metadata": {},
   "outputs": [
    {
     "name": "stdout",
     "output_type": "stream",
     "text": [
      "6394\n"
     ]
    }
   ],
   "source": [
    "#tokenizing sentences\n",
    "sentences = sent_tokenize(f)\n",
    "print(len(sentences))"
   ]
  },
  {
   "cell_type": "code",
   "execution_count": 22,
   "id": "e478feaa",
   "metadata": {
    "scrolled": true
   },
   "outputs": [
    {
     "data": {
      "text/plain": [
       "FreqDist({',': 5658, '.': 5118, 'the': 3310, \"''\": 2443, '``': 2305, 'to': 1845, 'and': 1804, 'a': 1578, 'Harry': 1323, 'was': 1253, ...})"
      ]
     },
     "execution_count": 22,
     "metadata": {},
     "output_type": "execute_result"
    }
   ],
   "source": [
    "#frequency of each token\n",
    "words = word_tokenize(f)\n",
    "FreqDist(words)"
   ]
  },
  {
   "cell_type": "code",
   "execution_count": 38,
   "id": "980baf00",
   "metadata": {},
   "outputs": [
    {
     "data": {
      "text/plain": [
       "'He drummed his fingers on the steering wheel and his eyes fell on a huddle of these weirdos standing quite close by.'"
      ]
     },
     "execution_count": 38,
     "metadata": {},
     "output_type": "execute_result"
    }
   ],
   "source": [
    "#calculating all n_grams\n",
    "sentence = sentences[34]\n",
    "sentence"
   ]
  },
  {
   "cell_type": "code",
   "execution_count": 39,
   "id": "a0110bbd",
   "metadata": {},
   "outputs": [
    {
     "name": "stdout",
     "output_type": "stream",
     "text": [
      "('He',)\n",
      "('drummed',)\n",
      "('his',)\n",
      "('fingers',)\n",
      "('on',)\n",
      "('the',)\n",
      "('steering',)\n",
      "('wheel',)\n",
      "('and',)\n",
      "('his',)\n",
      "('eyes',)\n",
      "('fell',)\n",
      "('on',)\n",
      "('a',)\n",
      "('huddle',)\n",
      "('of',)\n",
      "('these',)\n",
      "('weirdos',)\n",
      "('standing',)\n",
      "('quite',)\n",
      "('close',)\n",
      "('by.',)\n",
      "('He', 'drummed')\n",
      "('drummed', 'his')\n",
      "('his', 'fingers')\n",
      "('fingers', 'on')\n",
      "('on', 'the')\n",
      "('the', 'steering')\n",
      "('steering', 'wheel')\n",
      "('wheel', 'and')\n",
      "('and', 'his')\n",
      "('his', 'eyes')\n",
      "('eyes', 'fell')\n",
      "('fell', 'on')\n",
      "('on', 'a')\n",
      "('a', 'huddle')\n",
      "('huddle', 'of')\n",
      "('of', 'these')\n",
      "('these', 'weirdos')\n",
      "('weirdos', 'standing')\n",
      "('standing', 'quite')\n",
      "('quite', 'close')\n",
      "('close', 'by.')\n",
      "('He', 'drummed', 'his')\n",
      "('drummed', 'his', 'fingers')\n",
      "('his', 'fingers', 'on')\n",
      "('fingers', 'on', 'the')\n",
      "('on', 'the', 'steering')\n",
      "('the', 'steering', 'wheel')\n",
      "('steering', 'wheel', 'and')\n",
      "('wheel', 'and', 'his')\n",
      "('and', 'his', 'eyes')\n",
      "('his', 'eyes', 'fell')\n",
      "('eyes', 'fell', 'on')\n",
      "('fell', 'on', 'a')\n",
      "('on', 'a', 'huddle')\n",
      "('a', 'huddle', 'of')\n",
      "('huddle', 'of', 'these')\n",
      "('of', 'these', 'weirdos')\n",
      "('these', 'weirdos', 'standing')\n",
      "('weirdos', 'standing', 'quite')\n",
      "('standing', 'quite', 'close')\n",
      "('quite', 'close', 'by.')\n",
      "('He', 'drummed', 'his', 'fingers')\n",
      "('drummed', 'his', 'fingers', 'on')\n",
      "('his', 'fingers', 'on', 'the')\n",
      "('fingers', 'on', 'the', 'steering')\n",
      "('on', 'the', 'steering', 'wheel')\n",
      "('the', 'steering', 'wheel', 'and')\n",
      "('steering', 'wheel', 'and', 'his')\n",
      "('wheel', 'and', 'his', 'eyes')\n",
      "('and', 'his', 'eyes', 'fell')\n",
      "('his', 'eyes', 'fell', 'on')\n",
      "('eyes', 'fell', 'on', 'a')\n",
      "('fell', 'on', 'a', 'huddle')\n",
      "('on', 'a', 'huddle', 'of')\n",
      "('a', 'huddle', 'of', 'these')\n",
      "('huddle', 'of', 'these', 'weirdos')\n",
      "('of', 'these', 'weirdos', 'standing')\n",
      "('these', 'weirdos', 'standing', 'quite')\n",
      "('weirdos', 'standing', 'quite', 'close')\n",
      "('standing', 'quite', 'close', 'by.')\n",
      "('He', 'drummed', 'his', 'fingers', 'on')\n",
      "('drummed', 'his', 'fingers', 'on', 'the')\n",
      "('his', 'fingers', 'on', 'the', 'steering')\n",
      "('fingers', 'on', 'the', 'steering', 'wheel')\n",
      "('on', 'the', 'steering', 'wheel', 'and')\n",
      "('the', 'steering', 'wheel', 'and', 'his')\n",
      "('steering', 'wheel', 'and', 'his', 'eyes')\n",
      "('wheel', 'and', 'his', 'eyes', 'fell')\n",
      "('and', 'his', 'eyes', 'fell', 'on')\n",
      "('his', 'eyes', 'fell', 'on', 'a')\n",
      "('eyes', 'fell', 'on', 'a', 'huddle')\n",
      "('fell', 'on', 'a', 'huddle', 'of')\n",
      "('on', 'a', 'huddle', 'of', 'these')\n",
      "('a', 'huddle', 'of', 'these', 'weirdos')\n",
      "('huddle', 'of', 'these', 'weirdos', 'standing')\n",
      "('of', 'these', 'weirdos', 'standing', 'quite')\n",
      "('these', 'weirdos', 'standing', 'quite', 'close')\n",
      "('weirdos', 'standing', 'quite', 'close', 'by.')\n",
      "('He', 'drummed', 'his', 'fingers', 'on', 'the')\n",
      "('drummed', 'his', 'fingers', 'on', 'the', 'steering')\n",
      "('his', 'fingers', 'on', 'the', 'steering', 'wheel')\n",
      "('fingers', 'on', 'the', 'steering', 'wheel', 'and')\n",
      "('on', 'the', 'steering', 'wheel', 'and', 'his')\n",
      "('the', 'steering', 'wheel', 'and', 'his', 'eyes')\n",
      "('steering', 'wheel', 'and', 'his', 'eyes', 'fell')\n",
      "('wheel', 'and', 'his', 'eyes', 'fell', 'on')\n",
      "('and', 'his', 'eyes', 'fell', 'on', 'a')\n",
      "('his', 'eyes', 'fell', 'on', 'a', 'huddle')\n",
      "('eyes', 'fell', 'on', 'a', 'huddle', 'of')\n",
      "('fell', 'on', 'a', 'huddle', 'of', 'these')\n",
      "('on', 'a', 'huddle', 'of', 'these', 'weirdos')\n",
      "('a', 'huddle', 'of', 'these', 'weirdos', 'standing')\n",
      "('huddle', 'of', 'these', 'weirdos', 'standing', 'quite')\n",
      "('of', 'these', 'weirdos', 'standing', 'quite', 'close')\n",
      "('these', 'weirdos', 'standing', 'quite', 'close', 'by.')\n",
      "('He', 'drummed', 'his', 'fingers', 'on', 'the', 'steering')\n",
      "('drummed', 'his', 'fingers', 'on', 'the', 'steering', 'wheel')\n",
      "('his', 'fingers', 'on', 'the', 'steering', 'wheel', 'and')\n",
      "('fingers', 'on', 'the', 'steering', 'wheel', 'and', 'his')\n",
      "('on', 'the', 'steering', 'wheel', 'and', 'his', 'eyes')\n",
      "('the', 'steering', 'wheel', 'and', 'his', 'eyes', 'fell')\n",
      "('steering', 'wheel', 'and', 'his', 'eyes', 'fell', 'on')\n",
      "('wheel', 'and', 'his', 'eyes', 'fell', 'on', 'a')\n",
      "('and', 'his', 'eyes', 'fell', 'on', 'a', 'huddle')\n",
      "('his', 'eyes', 'fell', 'on', 'a', 'huddle', 'of')\n",
      "('eyes', 'fell', 'on', 'a', 'huddle', 'of', 'these')\n",
      "('fell', 'on', 'a', 'huddle', 'of', 'these', 'weirdos')\n",
      "('on', 'a', 'huddle', 'of', 'these', 'weirdos', 'standing')\n",
      "('a', 'huddle', 'of', 'these', 'weirdos', 'standing', 'quite')\n",
      "('huddle', 'of', 'these', 'weirdos', 'standing', 'quite', 'close')\n",
      "('of', 'these', 'weirdos', 'standing', 'quite', 'close', 'by.')\n",
      "('He', 'drummed', 'his', 'fingers', 'on', 'the', 'steering', 'wheel')\n",
      "('drummed', 'his', 'fingers', 'on', 'the', 'steering', 'wheel', 'and')\n",
      "('his', 'fingers', 'on', 'the', 'steering', 'wheel', 'and', 'his')\n",
      "('fingers', 'on', 'the', 'steering', 'wheel', 'and', 'his', 'eyes')\n",
      "('on', 'the', 'steering', 'wheel', 'and', 'his', 'eyes', 'fell')\n",
      "('the', 'steering', 'wheel', 'and', 'his', 'eyes', 'fell', 'on')\n",
      "('steering', 'wheel', 'and', 'his', 'eyes', 'fell', 'on', 'a')\n",
      "('wheel', 'and', 'his', 'eyes', 'fell', 'on', 'a', 'huddle')\n",
      "('and', 'his', 'eyes', 'fell', 'on', 'a', 'huddle', 'of')\n",
      "('his', 'eyes', 'fell', 'on', 'a', 'huddle', 'of', 'these')\n",
      "('eyes', 'fell', 'on', 'a', 'huddle', 'of', 'these', 'weirdos')\n",
      "('fell', 'on', 'a', 'huddle', 'of', 'these', 'weirdos', 'standing')\n",
      "('on', 'a', 'huddle', 'of', 'these', 'weirdos', 'standing', 'quite')\n",
      "('a', 'huddle', 'of', 'these', 'weirdos', 'standing', 'quite', 'close')\n",
      "('huddle', 'of', 'these', 'weirdos', 'standing', 'quite', 'close', 'by.')\n",
      "('He', 'drummed', 'his', 'fingers', 'on', 'the', 'steering', 'wheel', 'and')\n",
      "('drummed', 'his', 'fingers', 'on', 'the', 'steering', 'wheel', 'and', 'his')\n",
      "('his', 'fingers', 'on', 'the', 'steering', 'wheel', 'and', 'his', 'eyes')\n",
      "('fingers', 'on', 'the', 'steering', 'wheel', 'and', 'his', 'eyes', 'fell')\n",
      "('on', 'the', 'steering', 'wheel', 'and', 'his', 'eyes', 'fell', 'on')\n",
      "('the', 'steering', 'wheel', 'and', 'his', 'eyes', 'fell', 'on', 'a')\n",
      "('steering', 'wheel', 'and', 'his', 'eyes', 'fell', 'on', 'a', 'huddle')\n",
      "('wheel', 'and', 'his', 'eyes', 'fell', 'on', 'a', 'huddle', 'of')\n",
      "('and', 'his', 'eyes', 'fell', 'on', 'a', 'huddle', 'of', 'these')\n",
      "('his', 'eyes', 'fell', 'on', 'a', 'huddle', 'of', 'these', 'weirdos')\n",
      "('eyes', 'fell', 'on', 'a', 'huddle', 'of', 'these', 'weirdos', 'standing')\n",
      "('fell', 'on', 'a', 'huddle', 'of', 'these', 'weirdos', 'standing', 'quite')\n",
      "('on', 'a', 'huddle', 'of', 'these', 'weirdos', 'standing', 'quite', 'close')\n",
      "('a', 'huddle', 'of', 'these', 'weirdos', 'standing', 'quite', 'close', 'by.')\n",
      "('He', 'drummed', 'his', 'fingers', 'on', 'the', 'steering', 'wheel', 'and', 'his')\n",
      "('drummed', 'his', 'fingers', 'on', 'the', 'steering', 'wheel', 'and', 'his', 'eyes')\n",
      "('his', 'fingers', 'on', 'the', 'steering', 'wheel', 'and', 'his', 'eyes', 'fell')\n",
      "('fingers', 'on', 'the', 'steering', 'wheel', 'and', 'his', 'eyes', 'fell', 'on')\n",
      "('on', 'the', 'steering', 'wheel', 'and', 'his', 'eyes', 'fell', 'on', 'a')\n",
      "('the', 'steering', 'wheel', 'and', 'his', 'eyes', 'fell', 'on', 'a', 'huddle')\n",
      "('steering', 'wheel', 'and', 'his', 'eyes', 'fell', 'on', 'a', 'huddle', 'of')\n",
      "('wheel', 'and', 'his', 'eyes', 'fell', 'on', 'a', 'huddle', 'of', 'these')\n",
      "('and', 'his', 'eyes', 'fell', 'on', 'a', 'huddle', 'of', 'these', 'weirdos')\n",
      "('his', 'eyes', 'fell', 'on', 'a', 'huddle', 'of', 'these', 'weirdos', 'standing')\n",
      "('eyes', 'fell', 'on', 'a', 'huddle', 'of', 'these', 'weirdos', 'standing', 'quite')\n",
      "('fell', 'on', 'a', 'huddle', 'of', 'these', 'weirdos', 'standing', 'quite', 'close')\n",
      "('on', 'a', 'huddle', 'of', 'these', 'weirdos', 'standing', 'quite', 'close', 'by.')\n",
      "('He', 'drummed', 'his', 'fingers', 'on', 'the', 'steering', 'wheel', 'and', 'his', 'eyes')\n",
      "('drummed', 'his', 'fingers', 'on', 'the', 'steering', 'wheel', 'and', 'his', 'eyes', 'fell')\n",
      "('his', 'fingers', 'on', 'the', 'steering', 'wheel', 'and', 'his', 'eyes', 'fell', 'on')\n",
      "('fingers', 'on', 'the', 'steering', 'wheel', 'and', 'his', 'eyes', 'fell', 'on', 'a')\n",
      "('on', 'the', 'steering', 'wheel', 'and', 'his', 'eyes', 'fell', 'on', 'a', 'huddle')\n",
      "('the', 'steering', 'wheel', 'and', 'his', 'eyes', 'fell', 'on', 'a', 'huddle', 'of')\n",
      "('steering', 'wheel', 'and', 'his', 'eyes', 'fell', 'on', 'a', 'huddle', 'of', 'these')\n",
      "('wheel', 'and', 'his', 'eyes', 'fell', 'on', 'a', 'huddle', 'of', 'these', 'weirdos')\n",
      "('and', 'his', 'eyes', 'fell', 'on', 'a', 'huddle', 'of', 'these', 'weirdos', 'standing')\n",
      "('his', 'eyes', 'fell', 'on', 'a', 'huddle', 'of', 'these', 'weirdos', 'standing', 'quite')\n",
      "('eyes', 'fell', 'on', 'a', 'huddle', 'of', 'these', 'weirdos', 'standing', 'quite', 'close')\n",
      "('fell', 'on', 'a', 'huddle', 'of', 'these', 'weirdos', 'standing', 'quite', 'close', 'by.')\n",
      "('He', 'drummed', 'his', 'fingers', 'on', 'the', 'steering', 'wheel', 'and', 'his', 'eyes', 'fell')\n",
      "('drummed', 'his', 'fingers', 'on', 'the', 'steering', 'wheel', 'and', 'his', 'eyes', 'fell', 'on')\n",
      "('his', 'fingers', 'on', 'the', 'steering', 'wheel', 'and', 'his', 'eyes', 'fell', 'on', 'a')\n",
      "('fingers', 'on', 'the', 'steering', 'wheel', 'and', 'his', 'eyes', 'fell', 'on', 'a', 'huddle')\n",
      "('on', 'the', 'steering', 'wheel', 'and', 'his', 'eyes', 'fell', 'on', 'a', 'huddle', 'of')\n",
      "('the', 'steering', 'wheel', 'and', 'his', 'eyes', 'fell', 'on', 'a', 'huddle', 'of', 'these')\n",
      "('steering', 'wheel', 'and', 'his', 'eyes', 'fell', 'on', 'a', 'huddle', 'of', 'these', 'weirdos')\n",
      "('wheel', 'and', 'his', 'eyes', 'fell', 'on', 'a', 'huddle', 'of', 'these', 'weirdos', 'standing')\n",
      "('and', 'his', 'eyes', 'fell', 'on', 'a', 'huddle', 'of', 'these', 'weirdos', 'standing', 'quite')\n",
      "('his', 'eyes', 'fell', 'on', 'a', 'huddle', 'of', 'these', 'weirdos', 'standing', 'quite', 'close')\n",
      "('eyes', 'fell', 'on', 'a', 'huddle', 'of', 'these', 'weirdos', 'standing', 'quite', 'close', 'by.')\n",
      "('He', 'drummed', 'his', 'fingers', 'on', 'the', 'steering', 'wheel', 'and', 'his', 'eyes', 'fell', 'on')\n",
      "('drummed', 'his', 'fingers', 'on', 'the', 'steering', 'wheel', 'and', 'his', 'eyes', 'fell', 'on', 'a')\n",
      "('his', 'fingers', 'on', 'the', 'steering', 'wheel', 'and', 'his', 'eyes', 'fell', 'on', 'a', 'huddle')\n",
      "('fingers', 'on', 'the', 'steering', 'wheel', 'and', 'his', 'eyes', 'fell', 'on', 'a', 'huddle', 'of')\n",
      "('on', 'the', 'steering', 'wheel', 'and', 'his', 'eyes', 'fell', 'on', 'a', 'huddle', 'of', 'these')\n",
      "('the', 'steering', 'wheel', 'and', 'his', 'eyes', 'fell', 'on', 'a', 'huddle', 'of', 'these', 'weirdos')\n",
      "('steering', 'wheel', 'and', 'his', 'eyes', 'fell', 'on', 'a', 'huddle', 'of', 'these', 'weirdos', 'standing')\n",
      "('wheel', 'and', 'his', 'eyes', 'fell', 'on', 'a', 'huddle', 'of', 'these', 'weirdos', 'standing', 'quite')\n",
      "('and', 'his', 'eyes', 'fell', 'on', 'a', 'huddle', 'of', 'these', 'weirdos', 'standing', 'quite', 'close')\n",
      "('his', 'eyes', 'fell', 'on', 'a', 'huddle', 'of', 'these', 'weirdos', 'standing', 'quite', 'close', 'by.')\n",
      "('He', 'drummed', 'his', 'fingers', 'on', 'the', 'steering', 'wheel', 'and', 'his', 'eyes', 'fell', 'on', 'a')\n",
      "('drummed', 'his', 'fingers', 'on', 'the', 'steering', 'wheel', 'and', 'his', 'eyes', 'fell', 'on', 'a', 'huddle')\n",
      "('his', 'fingers', 'on', 'the', 'steering', 'wheel', 'and', 'his', 'eyes', 'fell', 'on', 'a', 'huddle', 'of')\n",
      "('fingers', 'on', 'the', 'steering', 'wheel', 'and', 'his', 'eyes', 'fell', 'on', 'a', 'huddle', 'of', 'these')\n",
      "('on', 'the', 'steering', 'wheel', 'and', 'his', 'eyes', 'fell', 'on', 'a', 'huddle', 'of', 'these', 'weirdos')\n",
      "('the', 'steering', 'wheel', 'and', 'his', 'eyes', 'fell', 'on', 'a', 'huddle', 'of', 'these', 'weirdos', 'standing')\n",
      "('steering', 'wheel', 'and', 'his', 'eyes', 'fell', 'on', 'a', 'huddle', 'of', 'these', 'weirdos', 'standing', 'quite')\n",
      "('wheel', 'and', 'his', 'eyes', 'fell', 'on', 'a', 'huddle', 'of', 'these', 'weirdos', 'standing', 'quite', 'close')\n",
      "('and', 'his', 'eyes', 'fell', 'on', 'a', 'huddle', 'of', 'these', 'weirdos', 'standing', 'quite', 'close', 'by.')\n",
      "('He', 'drummed', 'his', 'fingers', 'on', 'the', 'steering', 'wheel', 'and', 'his', 'eyes', 'fell', 'on', 'a', 'huddle')\n",
      "('drummed', 'his', 'fingers', 'on', 'the', 'steering', 'wheel', 'and', 'his', 'eyes', 'fell', 'on', 'a', 'huddle', 'of')\n",
      "('his', 'fingers', 'on', 'the', 'steering', 'wheel', 'and', 'his', 'eyes', 'fell', 'on', 'a', 'huddle', 'of', 'these')\n",
      "('fingers', 'on', 'the', 'steering', 'wheel', 'and', 'his', 'eyes', 'fell', 'on', 'a', 'huddle', 'of', 'these', 'weirdos')\n",
      "('on', 'the', 'steering', 'wheel', 'and', 'his', 'eyes', 'fell', 'on', 'a', 'huddle', 'of', 'these', 'weirdos', 'standing')\n",
      "('the', 'steering', 'wheel', 'and', 'his', 'eyes', 'fell', 'on', 'a', 'huddle', 'of', 'these', 'weirdos', 'standing', 'quite')\n",
      "('steering', 'wheel', 'and', 'his', 'eyes', 'fell', 'on', 'a', 'huddle', 'of', 'these', 'weirdos', 'standing', 'quite', 'close')\n",
      "('wheel', 'and', 'his', 'eyes', 'fell', 'on', 'a', 'huddle', 'of', 'these', 'weirdos', 'standing', 'quite', 'close', 'by.')\n",
      "('He', 'drummed', 'his', 'fingers', 'on', 'the', 'steering', 'wheel', 'and', 'his', 'eyes', 'fell', 'on', 'a', 'huddle', 'of')\n",
      "('drummed', 'his', 'fingers', 'on', 'the', 'steering', 'wheel', 'and', 'his', 'eyes', 'fell', 'on', 'a', 'huddle', 'of', 'these')\n",
      "('his', 'fingers', 'on', 'the', 'steering', 'wheel', 'and', 'his', 'eyes', 'fell', 'on', 'a', 'huddle', 'of', 'these', 'weirdos')\n",
      "('fingers', 'on', 'the', 'steering', 'wheel', 'and', 'his', 'eyes', 'fell', 'on', 'a', 'huddle', 'of', 'these', 'weirdos', 'standing')\n",
      "('on', 'the', 'steering', 'wheel', 'and', 'his', 'eyes', 'fell', 'on', 'a', 'huddle', 'of', 'these', 'weirdos', 'standing', 'quite')\n",
      "('the', 'steering', 'wheel', 'and', 'his', 'eyes', 'fell', 'on', 'a', 'huddle', 'of', 'these', 'weirdos', 'standing', 'quite', 'close')\n",
      "('steering', 'wheel', 'and', 'his', 'eyes', 'fell', 'on', 'a', 'huddle', 'of', 'these', 'weirdos', 'standing', 'quite', 'close', 'by.')\n",
      "('He', 'drummed', 'his', 'fingers', 'on', 'the', 'steering', 'wheel', 'and', 'his', 'eyes', 'fell', 'on', 'a', 'huddle', 'of', 'these')\n",
      "('drummed', 'his', 'fingers', 'on', 'the', 'steering', 'wheel', 'and', 'his', 'eyes', 'fell', 'on', 'a', 'huddle', 'of', 'these', 'weirdos')\n",
      "('his', 'fingers', 'on', 'the', 'steering', 'wheel', 'and', 'his', 'eyes', 'fell', 'on', 'a', 'huddle', 'of', 'these', 'weirdos', 'standing')\n",
      "('fingers', 'on', 'the', 'steering', 'wheel', 'and', 'his', 'eyes', 'fell', 'on', 'a', 'huddle', 'of', 'these', 'weirdos', 'standing', 'quite')\n",
      "('on', 'the', 'steering', 'wheel', 'and', 'his', 'eyes', 'fell', 'on', 'a', 'huddle', 'of', 'these', 'weirdos', 'standing', 'quite', 'close')\n",
      "('the', 'steering', 'wheel', 'and', 'his', 'eyes', 'fell', 'on', 'a', 'huddle', 'of', 'these', 'weirdos', 'standing', 'quite', 'close', 'by.')\n",
      "('He', 'drummed', 'his', 'fingers', 'on', 'the', 'steering', 'wheel', 'and', 'his', 'eyes', 'fell', 'on', 'a', 'huddle', 'of', 'these', 'weirdos')\n",
      "('drummed', 'his', 'fingers', 'on', 'the', 'steering', 'wheel', 'and', 'his', 'eyes', 'fell', 'on', 'a', 'huddle', 'of', 'these', 'weirdos', 'standing')\n",
      "('his', 'fingers', 'on', 'the', 'steering', 'wheel', 'and', 'his', 'eyes', 'fell', 'on', 'a', 'huddle', 'of', 'these', 'weirdos', 'standing', 'quite')\n",
      "('fingers', 'on', 'the', 'steering', 'wheel', 'and', 'his', 'eyes', 'fell', 'on', 'a', 'huddle', 'of', 'these', 'weirdos', 'standing', 'quite', 'close')\n",
      "('on', 'the', 'steering', 'wheel', 'and', 'his', 'eyes', 'fell', 'on', 'a', 'huddle', 'of', 'these', 'weirdos', 'standing', 'quite', 'close', 'by.')\n",
      "('He', 'drummed', 'his', 'fingers', 'on', 'the', 'steering', 'wheel', 'and', 'his', 'eyes', 'fell', 'on', 'a', 'huddle', 'of', 'these', 'weirdos', 'standing')\n",
      "('drummed', 'his', 'fingers', 'on', 'the', 'steering', 'wheel', 'and', 'his', 'eyes', 'fell', 'on', 'a', 'huddle', 'of', 'these', 'weirdos', 'standing', 'quite')\n",
      "('his', 'fingers', 'on', 'the', 'steering', 'wheel', 'and', 'his', 'eyes', 'fell', 'on', 'a', 'huddle', 'of', 'these', 'weirdos', 'standing', 'quite', 'close')\n",
      "('fingers', 'on', 'the', 'steering', 'wheel', 'and', 'his', 'eyes', 'fell', 'on', 'a', 'huddle', 'of', 'these', 'weirdos', 'standing', 'quite', 'close', 'by.')\n",
      "('He', 'drummed', 'his', 'fingers', 'on', 'the', 'steering', 'wheel', 'and', 'his', 'eyes', 'fell', 'on', 'a', 'huddle', 'of', 'these', 'weirdos', 'standing', 'quite')\n",
      "('drummed', 'his', 'fingers', 'on', 'the', 'steering', 'wheel', 'and', 'his', 'eyes', 'fell', 'on', 'a', 'huddle', 'of', 'these', 'weirdos', 'standing', 'quite', 'close')\n",
      "('his', 'fingers', 'on', 'the', 'steering', 'wheel', 'and', 'his', 'eyes', 'fell', 'on', 'a', 'huddle', 'of', 'these', 'weirdos', 'standing', 'quite', 'close', 'by.')\n",
      "('He', 'drummed', 'his', 'fingers', 'on', 'the', 'steering', 'wheel', 'and', 'his', 'eyes', 'fell', 'on', 'a', 'huddle', 'of', 'these', 'weirdos', 'standing', 'quite', 'close')\n",
      "('drummed', 'his', 'fingers', 'on', 'the', 'steering', 'wheel', 'and', 'his', 'eyes', 'fell', 'on', 'a', 'huddle', 'of', 'these', 'weirdos', 'standing', 'quite', 'close', 'by.')\n",
      "('He', 'drummed', 'his', 'fingers', 'on', 'the', 'steering', 'wheel', 'and', 'his', 'eyes', 'fell', 'on', 'a', 'huddle', 'of', 'these', 'weirdos', 'standing', 'quite', 'close', 'by.')\n"
     ]
    }
   ],
   "source": [
    "for i in range(len(sentence)):\n",
    "    n = i\n",
    "    n_grams = ngrams(sentence.split(), n)\n",
    "    for item in n_grams:\n",
    "        print(item)"
   ]
  },
  {
   "cell_type": "code",
   "execution_count": 40,
   "id": "70a39c88",
   "metadata": {},
   "outputs": [
    {
     "data": {
      "text/plain": [
       "[('He', 'PRP'),\n",
       " ('drummed', 'VBD'),\n",
       " ('his', 'PRP$'),\n",
       " ('fingers', 'NNS'),\n",
       " ('on', 'IN'),\n",
       " ('the', 'DT'),\n",
       " ('steering', 'NN'),\n",
       " ('wheel', 'NN'),\n",
       " ('and', 'CC'),\n",
       " ('his', 'PRP$'),\n",
       " ('eyes', 'NNS'),\n",
       " ('fell', 'VBD'),\n",
       " ('on', 'IN'),\n",
       " ('a', 'DT'),\n",
       " ('huddle', 'NN'),\n",
       " ('of', 'IN'),\n",
       " ('these', 'DT'),\n",
       " ('weirdos', 'NNS'),\n",
       " ('standing', 'VBG'),\n",
       " ('quite', 'RB'),\n",
       " ('close', 'JJ'),\n",
       " ('by', 'IN'),\n",
       " ('.', '.')]"
      ]
     },
     "execution_count": 40,
     "metadata": {},
     "output_type": "execute_result"
    }
   ],
   "source": [
    "words_1 = word_tokenize(sentence)\n",
    "pos_tag(words_1)"
   ]
  },
  {
   "cell_type": "code",
   "execution_count": 41,
   "id": "66d73dba",
   "metadata": {},
   "outputs": [
    {
     "name": "stdout",
     "output_type": "stream",
     "text": [
      "he\n",
      "drum\n",
      "hi\n",
      "finger\n",
      "on\n",
      "the\n",
      "steer\n",
      "wheel\n",
      "and\n",
      "hi\n",
      "eye\n",
      "fell\n",
      "on\n",
      "a\n",
      "huddl\n",
      "of\n",
      "these\n",
      "weirdo\n",
      "stand\n",
      "quit\n",
      "close\n",
      "by\n",
      ".\n"
     ]
    }
   ],
   "source": [
    "porter = PorterStemmer()\n",
    "for word in words_1:\n",
    "    print(porter.stem(word))"
   ]
  },
  {
   "cell_type": "code",
   "execution_count": 51,
   "id": "1adb3a0d",
   "metadata": {},
   "outputs": [
    {
     "name": "stdout",
     "output_type": "stream",
     "text": [
      "He\n",
      "drum\n",
      "his\n",
      "finger\n",
      "on\n",
      "the\n",
      "steer\n",
      "wheel\n",
      "and\n",
      "his\n",
      "eye\n",
      "fell\n",
      "on\n",
      "a\n",
      "huddle\n",
      "of\n",
      "these\n",
      "weirdos\n",
      "stand\n",
      "quite\n",
      "close\n",
      "by\n",
      ".\n"
     ]
    }
   ],
   "source": [
    "lemmatizer = WordNetLemmatizer()\n",
    "for word in words_1:\n",
    "    print(lemmatizer.lemmatize(word, 'v'))"
   ]
  }
 ],
 "metadata": {
  "kernelspec": {
   "display_name": "Python 3 (ipykernel)",
   "language": "python",
   "name": "python3"
  },
  "language_info": {
   "codemirror_mode": {
    "name": "ipython",
    "version": 3
   },
   "file_extension": ".py",
   "mimetype": "text/x-python",
   "name": "python",
   "nbconvert_exporter": "python",
   "pygments_lexer": "ipython3",
   "version": "3.8.13"
  }
 },
 "nbformat": 4,
 "nbformat_minor": 5
}
